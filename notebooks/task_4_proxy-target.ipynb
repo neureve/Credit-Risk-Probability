{
 "cells": [
  {
   "cell_type": "code",
   "execution_count": 1,
   "id": "79ad3c27",
   "metadata": {},
   "outputs": [],
   "source": [
    "import pandas as pd\n",
    "import numpy as np\n",
    "from sklearn.base import BaseEstimator, TransformerMixin\n",
    "from sklearn.pipeline import Pipeline\n",
    "from sklearn.preprocessing import OneHotEncoder, StandardScaler, MinMaxScaler\n",
    "from sklearn.impute import SimpleImputer\n",
    "from sklearn.compose import ColumnTransformer\n"
   ]
  },
  {
   "cell_type": "code",
   "execution_count": 4,
   "id": "456052f8",
   "metadata": {},
   "outputs": [],
   "source": [
    "# Step 0: Import libraries and load data\n",
    "import pandas as pd\n",
    "from sklearn.preprocessing import StandardScaler\n",
    "from sklearn.cluster import KMeans\n",
    "\n",
    "# Load your transactions data CSV (update path if needed)\n",
    "df_transactions = pd.read_csv('../data/raw/data.csv')\n",
    "\n",
    "# If 'TransactionStartTime' is not datetime, convert it\n",
    "df_transactions['TransactionStartTime'] = pd.to_datetime(df_transactions['TransactionStartTime'])\n",
    "\n",
    "# Now you can paste Step 1 and continue from there\n"
   ]
  },
  {
   "cell_type": "code",
   "execution_count": 5,
   "id": "07bcf225",
   "metadata": {},
   "outputs": [
    {
     "data": {
      "text/html": [
       "<div>\n",
       "<style scoped>\n",
       "    .dataframe tbody tr th:only-of-type {\n",
       "        vertical-align: middle;\n",
       "    }\n",
       "\n",
       "    .dataframe tbody tr th {\n",
       "        vertical-align: top;\n",
       "    }\n",
       "\n",
       "    .dataframe thead th {\n",
       "        text-align: right;\n",
       "    }\n",
       "</style>\n",
       "<table border=\"1\" class=\"dataframe\">\n",
       "  <thead>\n",
       "    <tr style=\"text-align: right;\">\n",
       "      <th></th>\n",
       "      <th>CustomerId</th>\n",
       "      <th>Recency</th>\n",
       "      <th>Frequency</th>\n",
       "      <th>Monetary</th>\n",
       "    </tr>\n",
       "  </thead>\n",
       "  <tbody>\n",
       "    <tr>\n",
       "      <th>0</th>\n",
       "      <td>CustomerId_1</td>\n",
       "      <td>84</td>\n",
       "      <td>1</td>\n",
       "      <td>-10000.0</td>\n",
       "    </tr>\n",
       "    <tr>\n",
       "      <th>1</th>\n",
       "      <td>CustomerId_10</td>\n",
       "      <td>84</td>\n",
       "      <td>1</td>\n",
       "      <td>-10000.0</td>\n",
       "    </tr>\n",
       "    <tr>\n",
       "      <th>2</th>\n",
       "      <td>CustomerId_1001</td>\n",
       "      <td>90</td>\n",
       "      <td>5</td>\n",
       "      <td>20000.0</td>\n",
       "    </tr>\n",
       "    <tr>\n",
       "      <th>3</th>\n",
       "      <td>CustomerId_1002</td>\n",
       "      <td>26</td>\n",
       "      <td>11</td>\n",
       "      <td>4225.0</td>\n",
       "    </tr>\n",
       "    <tr>\n",
       "      <th>4</th>\n",
       "      <td>CustomerId_1003</td>\n",
       "      <td>12</td>\n",
       "      <td>6</td>\n",
       "      <td>20000.0</td>\n",
       "    </tr>\n",
       "  </tbody>\n",
       "</table>\n",
       "</div>"
      ],
      "text/plain": [
       "        CustomerId  Recency  Frequency  Monetary\n",
       "0     CustomerId_1       84          1  -10000.0\n",
       "1    CustomerId_10       84          1  -10000.0\n",
       "2  CustomerId_1001       90          5   20000.0\n",
       "3  CustomerId_1002       26         11    4225.0\n",
       "4  CustomerId_1003       12          6   20000.0"
      ]
     },
     "execution_count": 5,
     "metadata": {},
     "output_type": "execute_result"
    }
   ],
   "source": [
    "import pandas as pd\n",
    "import numpy as np\n",
    "\n",
    "# Set snapshot date (usually the day after the latest transaction date)\n",
    "snapshot_date = df_transactions['TransactionStartTime'].max() + pd.Timedelta(days=1)\n",
    "\n",
    "# Convert TransactionStartTime to datetime if not already\n",
    "df_transactions['TransactionStartTime'] = pd.to_datetime(df_transactions['TransactionStartTime'])\n",
    "\n",
    "# Aggregate RFM metrics per customer\n",
    "rfm = df_transactions.groupby('CustomerId').agg({\n",
    "    'TransactionStartTime': lambda x: (snapshot_date - x.max()).days,  # Recency\n",
    "    'TransactionId': 'count',                                          # Frequency\n",
    "    'Amount': 'sum'                                                   # Monetary\n",
    "}).rename(columns={\n",
    "    'TransactionStartTime': 'Recency',\n",
    "    'TransactionId': 'Frequency',\n",
    "    'Amount': 'Monetary'\n",
    "}).reset_index()\n",
    "\n",
    "rfm.head()\n"
   ]
  },
  {
   "cell_type": "code",
   "execution_count": 6,
   "id": "7a3aefa3",
   "metadata": {},
   "outputs": [],
   "source": [
    "from sklearn.preprocessing import StandardScaler\n",
    "\n",
    "scaler = StandardScaler()\n",
    "rfm_scaled = scaler.fit_transform(rfm[['Recency', 'Frequency', 'Monetary']])\n"
   ]
  },
  {
   "cell_type": "code",
   "execution_count": 7,
   "id": "dd9b0e53",
   "metadata": {},
   "outputs": [],
   "source": [
    "from sklearn.cluster import KMeans\n",
    "\n",
    "kmeans = KMeans(n_clusters=3, random_state=42)\n",
    "rfm['Cluster'] = kmeans.fit_predict(rfm_scaled)\n"
   ]
  },
  {
   "cell_type": "code",
   "execution_count": 8,
   "id": "286b6d7b",
   "metadata": {},
   "outputs": [
    {
     "name": "stdout",
     "output_type": "stream",
     "text": [
      "           Recency    Frequency      Monetary\n",
      "Cluster                                      \n",
      "0        61.859846     7.726699  8.172379e+04\n",
      "1        29.000000  4091.000000 -1.049000e+08\n",
      "2        12.716076    34.807692  2.726546e+05\n"
     ]
    }
   ],
   "source": [
    "# Calculate mean RFM per cluster to analyze\n",
    "cluster_summary = rfm.groupby('Cluster')[['Recency', 'Frequency', 'Monetary']].mean()\n",
    "print(cluster_summary)\n",
    "\n",
    "# Suppose cluster with highest Recency and lowest Frequency & Monetary is high risk:\n",
    "high_risk_cluster = cluster_summary.sort_values(['Recency', 'Frequency', 'Monetary'], ascending=[False, True, True]).index[0]\n",
    "\n",
    "# Assign binary target column\n",
    "rfm['is_high_risk'] = (rfm['Cluster'] == high_risk_cluster).astype(int)\n"
   ]
  },
  {
   "cell_type": "code",
   "execution_count": 11,
   "id": "3dc803ee",
   "metadata": {},
   "outputs": [],
   "source": [
    "# If you have saved customer_features previously, load it\n",
    "customer_features = pd.read_csv('../data/raw/data.csv')\n",
    "\n",
    "# Or re-run the Task 3 pipelines to generate customer_features\n"
   ]
  },
  {
   "cell_type": "code",
   "execution_count": 12,
   "id": "98fce762",
   "metadata": {},
   "outputs": [
    {
     "data": {
      "text/html": [
       "<div>\n",
       "<style scoped>\n",
       "    .dataframe tbody tr th:only-of-type {\n",
       "        vertical-align: middle;\n",
       "    }\n",
       "\n",
       "    .dataframe tbody tr th {\n",
       "        vertical-align: top;\n",
       "    }\n",
       "\n",
       "    .dataframe thead th {\n",
       "        text-align: right;\n",
       "    }\n",
       "</style>\n",
       "<table border=\"1\" class=\"dataframe\">\n",
       "  <thead>\n",
       "    <tr style=\"text-align: right;\">\n",
       "      <th></th>\n",
       "      <th>CustomerId</th>\n",
       "      <th>is_high_risk</th>\n",
       "    </tr>\n",
       "  </thead>\n",
       "  <tbody>\n",
       "    <tr>\n",
       "      <th>0</th>\n",
       "      <td>CustomerId_4406</td>\n",
       "      <td>0</td>\n",
       "    </tr>\n",
       "    <tr>\n",
       "      <th>1</th>\n",
       "      <td>CustomerId_4406</td>\n",
       "      <td>0</td>\n",
       "    </tr>\n",
       "    <tr>\n",
       "      <th>2</th>\n",
       "      <td>CustomerId_4683</td>\n",
       "      <td>1</td>\n",
       "    </tr>\n",
       "    <tr>\n",
       "      <th>3</th>\n",
       "      <td>CustomerId_988</td>\n",
       "      <td>0</td>\n",
       "    </tr>\n",
       "    <tr>\n",
       "      <th>4</th>\n",
       "      <td>CustomerId_988</td>\n",
       "      <td>0</td>\n",
       "    </tr>\n",
       "  </tbody>\n",
       "</table>\n",
       "</div>"
      ],
      "text/plain": [
       "        CustomerId  is_high_risk\n",
       "0  CustomerId_4406             0\n",
       "1  CustomerId_4406             0\n",
       "2  CustomerId_4683             1\n",
       "3   CustomerId_988             0\n",
       "4   CustomerId_988             0"
      ]
     },
     "execution_count": 12,
     "metadata": {},
     "output_type": "execute_result"
    }
   ],
   "source": [
    "# Merge 'is_high_risk' into your final customer features dataframe\n",
    "final_df = customer_features.merge(rfm[['CustomerId', 'is_high_risk']], on='CustomerId', how='left')\n",
    "\n",
    "# Check\n",
    "final_df[['CustomerId', 'is_high_risk']].head()\n"
   ]
  }
 ],
 "metadata": {
  "kernelspec": {
   "display_name": "venv",
   "language": "python",
   "name": "python3"
  },
  "language_info": {
   "codemirror_mode": {
    "name": "ipython",
    "version": 3
   },
   "file_extension": ".py",
   "mimetype": "text/x-python",
   "name": "python",
   "nbconvert_exporter": "python",
   "pygments_lexer": "ipython3",
   "version": "3.13.3"
  }
 },
 "nbformat": 4,
 "nbformat_minor": 5
}
